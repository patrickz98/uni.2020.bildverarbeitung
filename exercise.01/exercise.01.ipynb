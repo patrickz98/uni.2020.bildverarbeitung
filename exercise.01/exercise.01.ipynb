{
 "cells": [
  {
   "cell_type": "markdown",
   "source": [
    "# Aufgabenblatt 1\n",
    "\n",
    "Patrick Zierahn (7065799)\n",
    "Thorben Janssen (7047766)"
   ],
   "metadata": {
    "collapsed": false,
    "pycharm": {
     "name": "#%% md\n"
    }
   }
  },
  {
   "cell_type": "markdown",
   "source": [
    "## Aufgabe 1\n",
    "\n",
    "**1. Wie kann die Anzahl der Zeilen und Spalten eines NumPy-Arrays bestimmt werden?**\n",
    "\n",
    "An NumPy-Arrays lässt sich .shape aufrufen. Dies ist ein Tuple das die Dimension zurück liefert.\n",
    "\n",
    "**2. Was unterscheidet die Funktionen numpy.array und numpy.zeros?**\n",
    "\n",
    "Mit numpy.array läst sich eine Matrix erstellen.\n",
    "Mit numpy.zeros((n, m)) läst sich eine n*m Matrixs erstellen die mit nullen gefühlt ist.\n",
    "\n",
    "**3. Wie kann der Datentyp eines gegebenen NumPy-Arrays ermittelt werden?**\n",
    "\n",
    "Die Funktion type(a) gibt Auskunft darüber um was für einen Datentyp es sich handelt.\n",
    "\n",
    "**4. Was bedeutet .T hinter dem Variablennamen eines NumPy-Arrays? Beispielsweise: a.T**\n",
    "\n",
    "Das T bedeutet das die Matrix transponiert wird.\n",
    "\n",
    "**5. Was machen die Funktionen xlabel und ylabel aus matplotlib.pyplot?**\n",
    "\n",
    "Mit matplotlib lassen sich Grafiken und Charts generieren.\n",
    "xlabel und ylabel setzt die x- und y-Axsen beschriftung."
   ],
   "metadata": {
    "collapsed": false,
    "pycharm": {
     "name": "#%% md\n"
    }
   }
  },
  {
   "cell_type": "code",
   "execution_count": 7,
   "outputs": [
    {
     "name": "stdout",
     "output_type": "stream",
     "text": [
      "[[1 2 3]\n",
      " [4 5 4]]\n",
      "[[1 4]\n",
      " [2 5]\n",
      " [3 4]]\n",
      "(2, 3)\n"
     ]
    }
   ],
   "source": [
    "import numpy as np\n",
    "\n",
    "b = np.array([[1,2,3],[4,5,4]])\n",
    "print(b)\n",
    "print(b.T)\n",
    "print(b.shape)"
   ],
   "metadata": {
    "collapsed": false,
    "pycharm": {
     "name": "#%%\n"
    }
   }
  }
 ],
 "metadata": {
  "kernelspec": {
   "display_name": "Python 3",
   "language": "python",
   "name": "python3"
  },
  "language_info": {
   "codemirror_mode": {
    "name": "ipython",
    "version": 2
   },
   "file_extension": ".py",
   "mimetype": "text/x-python",
   "name": "python",
   "nbconvert_exporter": "python",
   "pygments_lexer": "ipython2",
   "version": "2.7.6"
  }
 },
 "nbformat": 4,
 "nbformat_minor": 0
}