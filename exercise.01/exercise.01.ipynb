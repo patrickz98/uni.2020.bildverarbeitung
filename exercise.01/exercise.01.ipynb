{
 "cells": [
  {
   "cell_type": "markdown",
   "source": [
    "# Aufgabenblatt 1\n",
    "\n",
    "Patrick Zierahn (7065799)\n",
    "Thorben Janssen (7047766)"
   ],
   "metadata": {
    "collapsed": false,
    "pycharm": {
     "name": "#%% md\n"
    }
   }
  },
  {
   "cell_type": "markdown",
   "source": [
    "## Aufgabe 1\n",
    "\n",
    "**1. Wie kann die Anzahl der Zeilen und Spalten eines NumPy-Arrays bestimmt werden?**\n",
    "\n",
    "An NumPy-Arrays lässt sich .shape aufrufen. Dies ist ein Tuple das die Dimension zurück liefert.\n",
    "\n",
    "**2. Was unterscheidet die Funktionen numpy.array und numpy.zeros?**\n",
    "\n",
    "Mit numpy.array läst sich eine Matrix erstellen.\n",
    "Mit numpy.zeros((n, m)) läst sich eine n*m Matrixs erstellen die mit nullen gefühlt ist.\n",
    "\n",
    "**3. Wie kann der Datentyp eines gegebenen NumPy-Arrays ermittelt werden?**\n",
    "\n",
    "Die Funktion type(a) gibt Auskunft darüber um was für einen Datentyp es sich handelt.\n",
    "\n",
    "**4. Was bedeutet .T hinter dem Variablennamen eines NumPy-Arrays? Beispielsweise: a.T**\n",
    "\n",
    "Das T bedeutet das die Matrix transponiert wird.\n",
    "\n",
    "**5. Was machen die Funktionen xlabel und ylabel aus matplotlib.pyplot?**\n",
    "\n",
    "Mit matplotlib lassen sich Grafiken und Charts generieren.\n",
    "xlabel und ylabel setzt die x- und y-Axsen beschriftung.\n"
   ],
   "metadata": {
    "collapsed": false,
    "pycharm": {
     "name": "#%% md\n"
    }
   }
  },
  {
   "cell_type": "markdown",
   "source": [
    "## Aufgabe 2"
   ],
   "metadata": {
    "collapsed": false
   }
  },
  {
   "cell_type": "code",
   "execution_count": 15,
   "outputs": [
    {
     "name": "stdout",
     "output_type": "stream",
     "text": [
      "u = [0. 0. 0. 0. 0. 0. 0. 0. 0. 0. 0. 0. 0. 0. 0. 0. 0. 0. 0. 0. 0. 0. 0. 0.\n",
      " 0. 0. 0. 0. 0. 0. 0. 0. 0. 0. 0. 0. 0. 0. 0. 0. 0. 0. 0. 0. 0. 0. 0. 0.\n",
      " 0. 0. 0. 0. 0. 0. 0. 0. 0. 0. 0. 0. 0. 0. 0. 0. 0. 0. 0. 0. 0. 0. 0. 0.\n",
      " 0. 0. 0. 0. 0. 0. 0. 0. 0. 0. 0. 0. 0. 0. 0. 0. 0. 0. 0. 0. 0. 0. 0. 0.\n",
      " 0. 0. 0. 0.]\n",
      "v = [ 0  1  2  3  4  5  6  7  8  9 10 11]\n",
      "m = [[ 0  1  2  3]\n",
      " [ 4  5  6  7]\n",
      " [ 8  9 10 11]]\n",
      "m = [[ 0.   1.2  2.4  3.6]\n",
      " [ 4.8  6.   7.2  8.4]\n",
      " [ 9.6 10.8 12.  13.2]]\n",
      "m = [[ 0  1  2  3]\n",
      " [ 4  6  7  8]\n",
      " [ 9 10 12 13]]\n",
      "m = [[ 0.   1.2  2.4  3.6]\n",
      " [ 4.8  7.2  8.4  9.6]\n",
      " [10.8 12.  14.4 15.6]]\n",
      "type(m) = <class 'numpy.ndarray'>\n",
      "m = [[  0.     1.44   5.76  12.96]\n",
      " [ 23.04  51.84  70.56  92.16]\n",
      " [116.64 144.   207.36 243.36]]\n"
     ]
    }
   ],
   "source": [
    "import numpy as np\n",
    "\n",
    "# 1. Erzeugt zunächst einen Vektor u als 1D-Array mit 100 Nullen\n",
    "u = np.zeros((100))\n",
    "print(\"u =\", u)\n",
    "\n",
    "# 2. Erzeugt zudem einen Vektor v als 1D-Array aus der Liste: [0,1,2,3,4,5,6,7,8,9,10,11].\n",
    "v = np.array([0,1,2,3,4,5,6,7,8,9,10,11])\n",
    "print(\"v =\", v)\n",
    "\n",
    "# 3. Formt den Vektor v nun in eine Matrix m (2D-Array) um, die aus drei Zeilen und vier Spalten besteht.\n",
    "# Tipp: NumPy kennt eine Funktion, um die Form (engl. shape) eines Arrays zu ändern.\n",
    "m = v.reshape((3,4))\n",
    "print(\"m =\", m)\n",
    "\n",
    "# 4. Multipliziert alle Einträge der Matrix m mit dem konstanten Faktor 1.2.\n",
    "m = m * 1.2\n",
    "print(\"m =\", m)\n",
    "\n",
    "# 5. Ändert nun den Datentyp der Matrix m auf np.int.\n",
    "# Tipp: Nutzt die Methode astype eines NumPy-Arrays.\n",
    "m = m.astype(np.int)\n",
    "print(\"m =\", m)\n",
    "\n",
    "# 6. Multipliziert alle Einträge der Matrix m erneut mit dem konstanten Faktor 1.2.\n",
    "# Von welchem Datentyp ist jetzt das Ergebnis?\n",
    "m = m * 1.2\n",
    "print(\"m =\", m)\n",
    "print(\"type(m) =\", type(m))\n",
    "\n",
    "# 7. Berechnet das Hadamard-Produkt (elementweise Multiplikation)\n",
    "# der Matrix m mit sich selbst (m⊙m).\n",
    "m = m * m\n",
    "print(\"m =\", m)"
   ],
   "metadata": {
    "collapsed": false,
    "pycharm": {
     "name": "#%%\n"
    }
   }
  }
 ],
 "metadata": {
  "kernelspec": {
   "display_name": "Python 3",
   "language": "python",
   "name": "python3"
  },
  "language_info": {
   "codemirror_mode": {
    "name": "ipython",
    "version": 2
   },
   "file_extension": ".py",
   "mimetype": "text/x-python",
   "name": "python",
   "nbconvert_exporter": "python",
   "pygments_lexer": "ipython2",
   "version": "2.7.6"
  }
 },
 "nbformat": 4,
 "nbformat_minor": 0
}