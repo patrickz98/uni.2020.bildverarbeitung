{
 "cells": [
  {
   "cell_type": "markdown",
   "source": [
    "# Aufgabenblatt 1\n",
    "\n",
    "Patrick Zierahn (7065799)\n",
    "Thorben Janssen (7047766)"
   ],
   "metadata": {
    "collapsed": false,
    "pycharm": {
     "name": "#%% md\n"
    }
   }
  },
  {
   "cell_type": "markdown",
   "source": [
    "## Aufgabe 1 — NumPy und Matplotlib Tutorial\n",
    "\n",
    "**1. Wie kann die Anzahl der Zeilen und Spalten eines NumPy-Arrays bestimmt werden?**\n",
    "\n",
    "An NumPy-Arrays lässt sich .shape aufrufen. Dies ist ein Tuple das die Dimension zurück liefert.\n",
    "\n",
    "**2. Was unterscheidet die Funktionen numpy.array und numpy.zeros?**\n",
    "\n",
    "Mit numpy.array läst sich eine Matrix erstellen.\n",
    "Mit numpy.zeros((n, m)) läst sich eine n*m Matrixs erstellen die mit nullen gefühlt ist.\n",
    "\n",
    "**3. Wie kann der Datentyp eines gegebenen NumPy-Arrays ermittelt werden?**\n",
    "\n",
    "Die Funktion type(a) gibt Auskunft darüber um was für einen Datentyp es sich handelt.\n",
    "\n",
    "**4. Was bedeutet .T hinter dem Variablennamen eines NumPy-Arrays? Beispielsweise: a.T**\n",
    "\n",
    "Das T bedeutet das die Matrix transponiert wird.\n",
    "\n",
    "**5. Was machen die Funktionen xlabel und ylabel aus matplotlib.pyplot?**\n",
    "\n",
    "Mit matplotlib lassen sich Grafiken und Charts generieren.\n",
    "xlabel und ylabel setzt die x- und y-Axsen beschriftung.\n"
   ],
   "metadata": {
    "collapsed": false,
    "pycharm": {
     "name": "#%% md\n"
    }
   }
  },
  {
   "cell_type": "markdown",
   "source": [
    "## Aufgabe 2 — Erste Schritte in NumPy"
   ],
   "metadata": {
    "collapsed": false
   }
  },
  {
   "cell_type": "code",
   "execution_count": 8,
   "outputs": [
    {
     "name": "stdout",
     "output_type": "stream",
     "text": [
      "u = [0. 0. 0. 0. 0. 0. 0. 0. 0. 0. 0. 0. 0. 0. 0. 0. 0. 0. 0. 0. 0. 0. 0. 0.\n",
      " 0. 0. 0. 0. 0. 0. 0. 0. 0. 0. 0. 0. 0. 0. 0. 0. 0. 0. 0. 0. 0. 0. 0. 0.\n",
      " 0. 0. 0. 0. 0. 0. 0. 0. 0. 0. 0. 0. 0. 0. 0. 0. 0. 0. 0. 0. 0. 0. 0. 0.\n",
      " 0. 0. 0. 0. 0. 0. 0. 0. 0. 0. 0. 0. 0. 0. 0. 0. 0. 0. 0. 0. 0. 0. 0. 0.\n",
      " 0. 0. 0. 0.]\n",
      "v = [ 0  1  2  3  4  5  6  7  8  9 10]\n"
     ]
    },
    {
     "ename": "ValueError",
     "evalue": "cannot reshape array of size 11 into shape (3,4)",
     "output_type": "error",
     "traceback": [
      "\u001B[0;31m---------------------------------------------------------------------------\u001B[0m",
      "\u001B[0;31mValueError\u001B[0m                                Traceback (most recent call last)",
      "\u001B[0;32m<ipython-input-8-08608c05d9de>\u001B[0m in \u001B[0;36m<module>\u001B[0;34m\u001B[0m\n\u001B[1;32m     11\u001B[0m \u001B[0;31m# 3. Formt den Vektor v nun in eine Matrix m (2D-Array) um, die aus drei Zeilen und vier Spalten besteht.\u001B[0m\u001B[0;34m\u001B[0m\u001B[0;34m\u001B[0m\u001B[0m\n\u001B[1;32m     12\u001B[0m \u001B[0;31m# Tipp: NumPy kennt eine Funktion, um die Form (engl. shape) eines Arrays zu ändern.\u001B[0m\u001B[0;34m\u001B[0m\u001B[0;34m\u001B[0m\u001B[0m\n\u001B[0;32m---> 13\u001B[0;31m \u001B[0mm\u001B[0m \u001B[0;34m=\u001B[0m \u001B[0mv\u001B[0m\u001B[0;34m.\u001B[0m\u001B[0mreshape\u001B[0m\u001B[0;34m(\u001B[0m\u001B[0;34m(\u001B[0m\u001B[0;36m3\u001B[0m\u001B[0;34m,\u001B[0m\u001B[0;36m4\u001B[0m\u001B[0;34m)\u001B[0m\u001B[0;34m)\u001B[0m\u001B[0;34m\u001B[0m\u001B[0m\n\u001B[0m\u001B[1;32m     14\u001B[0m \u001B[0mprint\u001B[0m\u001B[0;34m(\u001B[0m\u001B[0;34m\"m =\"\u001B[0m\u001B[0;34m,\u001B[0m \u001B[0mm\u001B[0m\u001B[0;34m)\u001B[0m\u001B[0;34m\u001B[0m\u001B[0m\n\u001B[1;32m     15\u001B[0m \u001B[0;34m\u001B[0m\u001B[0m\n",
      "\u001B[0;31mValueError\u001B[0m: cannot reshape array of size 11 into shape (3,4)"
     ]
    }
   ],
   "source": [
    "import numpy as np\n",
    "\n",
    "# 1. Erzeugt zunächst einen Vektor u als 1D-Array mit 100 Nullen\n",
    "u = np.zeros((100))\n",
    "print(\"u =\", u)\n",
    "\n",
    "# 2. Erzeugt zudem einen Vektor v als 1D-Array aus der Liste: [0,1,2,3,4,5,6,7,8,9,10,11].\n",
    "v = np.arange(0, 11)\n",
    "print(\"v =\", v)\n",
    "\n",
    "# 3. Formt den Vektor v nun in eine Matrix m (2D-Array) um, die aus drei Zeilen und vier Spalten besteht.\n",
    "# Tipp: NumPy kennt eine Funktion, um die Form (engl. shape) eines Arrays zu ändern.\n",
    "m = v.reshape((3,4))\n",
    "print(\"m =\", m)\n",
    "\n",
    "# 4. Multipliziert alle Einträge der Matrix m mit dem konstanten Faktor 1.2.\n",
    "m = m * 1.2\n",
    "print(\"m =\", m)\n",
    "\n",
    "# 5. Ändert nun den Datentyp der Matrix m auf np.int.\n",
    "# Tipp: Nutzt die Methode astype eines NumPy-Arrays.\n",
    "m = m.astype(np.int)\n",
    "print(\"m =\", m)\n",
    "\n",
    "# 6. Multipliziert alle Einträge der Matrix m erneut mit dem konstanten Faktor 1.2.\n",
    "# Von welchem Datentyp ist jetzt das Ergebnis?\n",
    "m = m * 1.2\n",
    "print(\"m =\", m)\n",
    "print(\"type(m) =\", type(m))\n",
    "\n",
    "# 7. Berechnet das Hadamard-Produkt (elementweise Multiplikation)\n",
    "# der Matrix m mit sich selbst (m⊙m).\n",
    "m = m * m\n",
    "print(\"m =\", m)\n"
   ],
   "metadata": {
    "collapsed": false,
    "pycharm": {
     "name": "#%%\n"
    }
   }
  },
  {
   "cell_type": "markdown",
   "source": [
    "## Aufgabe 3 — Basisoperationen mit Bildern"
   ],
   "metadata": {
    "collapsed": false
   }
  },
  {
   "cell_type": "code",
   "execution_count": null,
   "outputs": [],
   "source": [
    "import skimage.io\n",
    "import matplotlib.pyplot as plt\n",
    "\n",
    "# 1. Speichert euch das Bild mandrill.png aus dem Moodle ab\n",
    "# und ladet es in Pythonmithilfe der Funktion skimage.io.imread.\n",
    "mandrill = skimage.io.imread(\"mandrill.png\")\n",
    "\n",
    "# 2. Zeigt das Bild mithilfe von Matplotlib an.\n",
    "plt.figure()\n",
    "plt.imshow(mandrill)\n",
    "\n",
    "# 3. Erstellt ein neues Array als Bildausschnitt, das, wie in\n",
    "# Abbildung 1a visualisiert, etwa die Nasen- spitze des Mandrill beinhaltet.\n",
    "nose = mandrill[310:450, 150:340]\n",
    "plt.figure()\n",
    "plt.imshow(nose)\n",
    "\n",
    "# 4. Speichert den Bildausschnitt mit der Funktion skimage.io.imsave ab.\n",
    "skimage.io.imsave(\"exercise.01.03.04.png\", nose)\n",
    "\n",
    "# 5. Erstellt eine Kopie des Bildes und setzt ein einziges\n",
    "# Pixel (Arrayelement bzw. Bildelement) auf schwarz.\n",
    "# Lasst euch das manipulierte Bild anzeigen.\n",
    "# Erkennt man den Unterschied? (kein Antworttext nötig)\n",
    "copy_mandrill = mandrill.copy()\n",
    "copy_mandrill[0] = 0\n",
    "plt.figure()\n",
    "plt.imshow(copy_mandrill)\n",
    "\n",
    "# 6. Erstellt eine weitere Kopie des Bildes und setzt den\n",
    "# gesamten Bereich der Augendes Mandrills auf schwarz.\n",
    "# Lasst euch das manipulierte Bild erneut anzeigen.\n",
    "# Erkennt man nun den Unterschied? (kein Antworttext nötig)\n",
    "copy_mandrill2 = mandrill.copy()\n",
    "copy_mandrill2[40:100, 120:400] = 0\n",
    "plt.figure()\n",
    "plt.imshow(copy_mandrill2)\n"
   ],
   "metadata": {
    "collapsed": false,
    "pycharm": {
     "name": "#%%\n"
    }
   }
  },
  {
   "cell_type": "markdown",
   "source": [
    "## Aufgabe 4 — Fortgeschrittene Bearbeitung von Bildern"
   ],
   "metadata": {
    "collapsed": false
   }
  },
  {
   "cell_type": "markdown",
   "source": [
    "### 1. Erstellt ein neues Bild basierend auf drei Variationen des Bildes mandrill.png aus dem Moodle sowie dem Originalbild."
   ],
   "metadata": {
    "collapsed": false
   }
  },
  {
   "cell_type": "code",
   "execution_count": null,
   "outputs": [],
   "source": [
    "import numpy\n",
    "import skimage.io\n",
    "import matplotlib.pyplot as plt\n",
    "\n",
    "# a) Ladet dazu zunächst erneut das Bild mandrill.png aus dem Moodle in Python.\n",
    "mandrill = skimage.io.imread(\"mandrill.png\")\n",
    "\n",
    "# b) Spiegelt das Bild an der vertikalen Achse (linke und rechte Seite tasuchen)\n",
    "# und speichert das Ergebnis in eine neue Variable als erste Variation.\n",
    "mandrill_fliplr = numpy.fliplr(mandrill)\n",
    "plt.figure()\n",
    "plt.imshow(mandrill_fliplr)\n",
    "skimage.io.imsave(\"exercise.01.04.01.b.png\", mandrill_fliplr)\n",
    "\n",
    "# c) Spiegelt das Originalbild (mandrill.png) nun an der horizontalen\n",
    "# Achse und speichert das Ergebnis erneut in einer neuen Variable.\n",
    "# Dies ist die ist die zweite Variation.\n",
    "mandrill_flip = numpy.flip(mandrill)\n",
    "plt.figure()\n",
    "plt.imshow(mandrill_flip)\n",
    "skimage.io.imsave(\"exercise.01.04.01.c.png\", mandrill_flip)\n",
    "\n",
    "# d) Führt jetzt beide Spiegelungen nacheinander auf\n",
    "# dem Originalbild aus speichert das Ergebnis wiederum\n",
    "# in einem neuen Bild als dritte Variation.\n",
    "mandrill_fliplr_flip = numpy.fliplr(numpy.flip(mandrill))\n",
    "plt.figure()\n",
    "plt.imshow(mandrill_fliplr_flip)\n",
    "skimage.io.imsave(\"exercise.01.04.01.d.png\", mandrill_fliplr_flip)\n",
    "\n",
    "# e) Erzeugt nun ein neues Bild, das doppelt so hoch und breit ist\n",
    "# wie das Bild mandrill.png. Setzt in jeden Quadranten des neuen\n",
    "# Bildes eine der vier Versionen des Bildes ein.\n",
    "# Oben links soll das Origianlbild zu sehen sein,\n",
    "# rechts daneben das an der vertikalen Achse gespiegelte Bild,\n",
    "# links unten das an der horizontalen Achse gespiegelte Bild\n",
    "# und rechts unten das an beiden Achsen gespiegelte Bild.\n",
    "# Das Ergebnis sollte etwa wie in Abbildung 1b aussehen.\n",
    "# Tipp: Zum Erzeugen von Arrays bzw. Bildern gibt es in NumPy mehrere Funktionen neben np.array.\n",
    "\n",
    "width = mandrill.shape[0]\n",
    "height = mandrill.shape[1]\n",
    "composed_image = numpy.zeros((width * 2, height * 2))\n",
    "\n",
    "# left top\n",
    "composed_image[:height, :width] = mandrill\n",
    "\n",
    "# top right\n",
    "composed_image[:height, width:] = mandrill_fliplr\n",
    "\n",
    "# left bottom\n",
    "composed_image[height:, :width] = mandrill_fliplr_flip\n",
    "\n",
    "# bottom right\n",
    "composed_image[height:, width:] = mandrill_flip\n",
    "\n",
    "plt.figure()\n",
    "plt.imshow(composed_image)\n",
    "skimage.io.imsave(\"exercise.01.04.01.e.png\", composed_image)"
   ],
   "metadata": {
    "collapsed": false,
    "pycharm": {
     "name": "#%%\n"
    }
   }
  },
  {
   "cell_type": "markdown",
   "source": [
    "### 2. ErzeugtnuneinNegativdesOriginalbilds(mandrill.png).IneinemNegativsindalleHelligkeits- werte umgedreht. D.h. schwarz wird zu weiß, weiß wird zu schwarz und alle Werte dazwischen werden ebenso gedreht. Lasst euch das Bild zur Kontrolle anzeigen."
   ],
   "metadata": {
    "collapsed": false
   }
  },
  {
   "cell_type": "code",
   "execution_count": null,
   "outputs": [],
   "source": [
    "import numpy\n",
    "import skimage.io\n",
    "import matplotlib.pyplot as plt\n",
    "\n",
    "mandrill = skimage.io.imread(\"mandrill.png\")\n",
    "plt.figure()\n",
    "plt.imshow(mandrill)\n",
    "\n",
    "inverse_matrix = numpy.ones(mandrill.shape) * 0xff\n",
    "\n",
    "mandrill_mattrix = numpy.array(mandrill)\n",
    "mandrill_mattrix = mandrill_mattrix - inverse_matrix\n",
    "mandrill_mattrix = numpy.absolute(mandrill_mattrix)\n",
    "\n",
    "plt.figure()\n",
    "plt.imshow(mandrill_mattrix)\n",
    "skimage.io.imsave(\"exercise.01.04.02.png\", mandrill_mattrix)"
   ],
   "metadata": {
    "collapsed": false,
    "pycharm": {
     "name": "#%%\n"
    }
   }
  },
  {
   "cell_type": "markdown",
   "source": [
    "### 3. Schneidet erneut die Nasenspitze des Mandrills wie in Abbildung 1a dargestellt als neues Bild aus. Ändert nun in dem neu erzeugten Ausschnitt ein Pixel und findet heraus, ob diese Änderung auch im Originalbild durchgeführt wird."
   ],
   "metadata": {
    "collapsed": false
   }
  },
  {
   "cell_type": "code",
   "execution_count": null,
   "outputs": [],
   "source": [
    "import skimage.io\n",
    "import matplotlib.pyplot as plt\n",
    "\n",
    "mandrill = skimage.io.imread(\"mandrill.png\")\n",
    "nose = mandrill[310:450, 150:340]\n",
    "\n",
    "nose[:20, :20] = 0xff\n",
    "plt.figure()\n",
    "plt.imshow(nose)\n",
    "\n",
    "plt.figure()\n",
    "plt.imshow(mandrill)\n",
    "\n",
    "# Antwort: die veränderungen sind auch im Originalbild sichtbar!"
   ],
   "metadata": {
    "collapsed": false,
    "pycharm": {
     "name": "#%%\n"
    }
   }
  },
  {
   "cell_type": "markdown",
   "source": [
    "### 4. Erstellt euch nun eine Maske für den Bereich der Nasenspitze des Mandrills."
   ],
   "metadata": {
    "collapsed": false
   }
  },
  {
   "cell_type": "code",
   "execution_count": null,
   "outputs": [],
   "source": [
    "import numpy\n",
    "import skimage.io\n",
    "import matplotlib.pyplot as plt\n",
    "\n",
    "mandrill = skimage.io.imread(\"mandrill.png\")\n",
    "plt.figure()\n",
    "plt.imshow(mandrill)\n",
    "\n",
    "nose = mandrill[310:450, 150:340]\n",
    "\n",
    "# a) Erzeugt dazu zunächst ein neues Bild, das nur aus Nullen besteht,\n",
    "# und die gleiche Größe wie das Originalbild hat. Dieses Bild wird eure Maske.\n",
    "mask = numpy.zeros(mandrill.shape)\n",
    "\n",
    "# b) Setzt nun in der Maske alle Pixel, die in dem Bereich liegen, der die Nasenspitze beinhaltet, auf 1.\n",
    "mask[310:450, 150:340] = numpy.ones(nose.shape)\n",
    "\n",
    "# c) Verrechnet anschließend Maske und Originalbild,\n",
    "# sodass der Bereich außerhalb der Nasenspitze schwarz\n",
    "# ist und nur im Bereich der Nasenspitze das eigentliche\n",
    "# Bild zu sehen ist. Das Ergebnis sollte etwa wie in Abbildung 1c aussehen.\n",
    "\n",
    "mandrill = mandrill * mask\n",
    "plt.figure()\n",
    "plt.imshow(mandrill)"
   ],
   "metadata": {
    "collapsed": false,
    "pycharm": {
     "name": "#%%\n"
    }
   }
  },
  {
   "cell_type": "markdown",
   "source": [
    "## Aufgabe 5 — Broadcasting vs. Schleifen in NumPy"
   ],
   "metadata": {
    "collapsed": false
   }
  },
  {
   "cell_type": "code",
   "execution_count": null,
   "outputs": [],
   "source": [
    "import time\n",
    "import numpy\n",
    "import skimage.io\n",
    "\n",
    "# 1. Schreibt eine Python-Funktion, die ein Bild als\n",
    "# NumPy-Array annimmt und für jeden Arrayeinträge bzw.\n",
    "# Pixel prüft, ob der Pixelwert zwischen 99 und 200 liegt.\n",
    "# Umgesetzt werden soll dies durch einer Iteration über\n",
    "# das Bild mittels zweier for-Schleifen.\n",
    "def check_pixel_for(picture: numpy.array) -> bool:\n",
    "    for iny in range(picture.shape[0]):\n",
    "        for inx in range(picture.shape[1]):\n",
    "            pixel = mandrill_matrix[iny][inx]\n",
    "\n",
    "            if pixel < 99 or pixel > 200:\n",
    "                return False\n",
    "\n",
    "    return True\n",
    "\n",
    "# 2. Schreibt eine zweite Funktion für selbigen Zweck.\n",
    "# Diesmal jedoch mit Broadcasting, d.h.komplett\n",
    "# ohne die Benutzung von Schleifen.\n",
    "def check_pixel_broadcasting(picture: numpy.array) -> bool:\n",
    "    return 99 < picture.all() < 200\n",
    "\n",
    "# 3. Messt wie lange 100 Aufrufe der beiden Funktionen\n",
    "# jeweils auf das Bild mandrill.png aus dem Moodle dauern.\n",
    "# Um die beiden Funktionen aufzurufen, dürft ihr natürlich\n",
    "# Schleifen verwenden. Wie groß ist der Unterschied?\n",
    "\n",
    "mandrill = skimage.io.imread(\"mandrill.png\")\n",
    "mandrill_matrix = numpy.array(mandrill)\n",
    "\n",
    "tic1 = time.time()\n",
    "for _ in range(100):\n",
    "    check_pixel_for(mandrill_matrix)\n",
    "\n",
    "toc1 = time.time()\n",
    "print(\"for time =\", toc1 - tic1)\n",
    "\n",
    "tic2 = time.time()\n",
    "for _ in range(100):\n",
    "    check_pixel_broadcasting(mandrill_matrix)\n",
    "\n",
    "toc2 = time.time()\n",
    "print(\"Broadcasting time =\", toc2 - tic2)\n",
    "\n",
    "# Antwort: Signifikanter unterschied zwischen beiden Versionen."
   ],
   "metadata": {
    "collapsed": false,
    "pycharm": {
     "name": "#%%\n"
    }
   }
  }
 ],
 "metadata": {
  "kernelspec": {
   "display_name": "Python 3",
   "language": "python",
   "name": "python3"
  },
  "language_info": {
   "codemirror_mode": {
    "name": "ipython",
    "version": 2
   },
   "file_extension": ".py",
   "mimetype": "text/x-python",
   "name": "python",
   "nbconvert_exporter": "python",
   "pygments_lexer": "ipython2",
   "version": "2.7.6"
  }
 },
 "nbformat": 4,
 "nbformat_minor": 0
}